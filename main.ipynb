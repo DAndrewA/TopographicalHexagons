{
 "cells": [
  {
   "cell_type": "markdown",
   "id": "75425b54-ff01-4eb1-9ff0-2e5d8f78c65e",
   "metadata": {},
   "source": [
    "# Main\n",
    "\n",
    "This will be the notebook to perform the steps required to generate the topographical hexagons I desire. I will import the functions written in the other files and combine them in such a way as to create the hexagons I desire."
   ]
  },
  {
   "cell_type": "markdown",
   "id": "19dea993-fd7d-4454-8c3a-02fd5404a851",
   "metadata": {},
   "source": [
    "### Initialisation\n",
    "This code will set up the environment required to produce the plots I would like. As such, I'll be importing my python scripts and any other required modules."
   ]
  },
  {
   "cell_type": "code",
   "execution_count": 1,
   "id": "66a0ad36-459f-4b2d-a4a8-dd1496113a91",
   "metadata": {},
   "outputs": [],
   "source": [
    "import numpy as np\n",
    "import matplotlib.pyplot as plt\n",
    "from mpl_toolkits.mplot3d import Axes3D\n",
    "\n",
    "import loadData as LD"
   ]
  },
  {
   "cell_type": "markdown",
   "id": "dfb95106-d41d-4d29-9a5b-b51127d1b29e",
   "metadata": {},
   "source": [
    "### Loading data\n",
    "I will load in the data for both of the SRTM datasets and concatenate them into a single matrix.\n",
    "From there, I will downsample the matrix twice until it is 1500 * 3000"
   ]
  },
  {
   "cell_type": "code",
   "execution_count": 2,
   "id": "34ba0315-4a6e-469d-9fbe-c56cf8de5801",
   "metadata": {},
   "outputs": [],
   "source": [
    "seaVal = -2\n",
    "\n",
    "D1,m1 = LD.load_asc_format('data\\\\srtm_35_04\\\\','srtm_35_04.asc',seaVal)\n",
    "D2,m2 = LD.load_asc_format('data\\\\srtm_36_04\\\\','srtm_36_04.asc',seaVal)\n",
    "\n",
    "D_combined = np.hstack((D1,D2))"
   ]
  },
  {
   "cell_type": "code",
   "execution_count": null,
   "id": "c2cf581d-a943-4e73-84f6-4f52b3b6374e",
   "metadata": {
    "scrolled": true
   },
   "outputs": [],
   "source": [
    "plt.figure(figsize = (10,4))\n",
    "\n",
    "plt.subplot(1,4,1)\n",
    "plt.imshow(D1,origin='lower',interpolation='bilinear')\n",
    "\n",
    "plt.subplot(1,4,2)\n",
    "plt.imshow(D2,origin='lower',interpolation='bilinear')\n",
    "\n",
    "plt.subplot(1,2,2)\n",
    "plt.imshow(D_combined,origin='lower',interpolation='bilinear')\n",
    "\n",
    "plt.show()"
   ]
  },
  {
   "cell_type": "markdown",
   "id": "2b0e6d8a-8125-444a-a2bf-1d7740a03eeb",
   "metadata": {},
   "source": [
    "### Downsampling and surface plotting\n",
    "\n",
    "I will downsample the data to be able to create a surface plot. I will then be able to apply scaling functions to the downsampled data and see how they affect the model."
   ]
  },
  {
   "cell_type": "code",
   "execution_count": null,
   "id": "698a6565-1b15-4612-ab1e-ac6ce5bb68df",
   "metadata": {},
   "outputs": [],
   "source": [
    "# performing two downsamples on the matrix\n",
    "\n",
    "newD = LD.downsample_minimum(D_combined)\n",
    "newD = LD.downsample_minimum(newD)"
   ]
  },
  {
   "cell_type": "code",
   "execution_count": null,
   "id": "5e764db3-df5e-4f0c-96bd-f98a10b285d3",
   "metadata": {
    "scrolled": false
   },
   "outputs": [],
   "source": [
    "%matplotlib widget\n",
    "\n",
    "fig = plt.figure(figsize = (8,4))\n",
    "ax1 = fig.add_subplot(121, projection='3d')\n",
    "x,y = range(np.size(newD,1)), range(np.size(newD,0))\n",
    "X,Y = np.meshgrid(x,y)\n",
    "ax1.plot_surface(X,Y,newD,rcount=100,ccount=100)\n",
    "\n",
    "################################################################\n",
    "idf = lambda x: x # identity function, for copying newD\n",
    "nnewD = idf(newD)\n",
    "\n",
    "#rescaling the heightmap by a function to exagerate lower elevations more\n",
    "#k = 10\n",
    "#w = lambda x: np.log(x)*k\n",
    "#w = lambda x: np.sqrt(x)*k\n",
    "#newD[newD > 0] = w(newD[newD > 0])\n",
    "\n",
    "#w = lambda x: x/20\n",
    "#newD[newD > 0] = w(newD[newD > 0])\n",
    "w = lambda x: np.sqrt(x) #if x>0 else x\n",
    "nnewD[nnewD > 0] = w(nnewD[nnewD > 0])\n",
    "\n",
    "#################################################################\n",
    "\n",
    "ax2 = fig.add_subplot(122, projection='3d')\n",
    "ax2.plot_surface(X,Y,nnewD,rcount=100,ccount=100)\n",
    "\n",
    "ax1.azim = 121\n",
    "ax1.elev = 25\n",
    "ax1.set_box_aspect((4,2,2))\n",
    "ax2.set_zlim3d(seaVal-2)\n",
    "ax2.azim = 121\n",
    "ax2.elev = 25\n",
    "ax2.set_box_aspect((4,2,2))\n",
    "ax2.set_zlim3d(seaVal-2)\n",
    "plt.show()"
   ]
  },
  {
   "cell_type": "code",
   "execution_count": null,
   "id": "20a19c5b-3774-49a3-9245-6a8fbe7d9cda",
   "metadata": {},
   "outputs": [],
   "source": [
    "newD = LD.new_downsample_minimum(D_combined)\n",
    "newD = LD.new_downsample_minimum(newD)"
   ]
  },
  {
   "cell_type": "code",
   "execution_count": null,
   "id": "95d0a8a9",
   "metadata": {},
   "outputs": [],
   "source": []
  }
 ],
 "metadata": {
  "kernelspec": {
   "display_name": "Python 3 (ipykernel)",
   "language": "python",
   "name": "python3"
  },
  "language_info": {
   "codemirror_mode": {
    "name": "ipython",
    "version": 3
   },
   "file_extension": ".py",
   "mimetype": "text/x-python",
   "name": "python",
   "nbconvert_exporter": "python",
   "pygments_lexer": "ipython3",
   "version": "3.9.7"
  }
 },
 "nbformat": 4,
 "nbformat_minor": 5
}
