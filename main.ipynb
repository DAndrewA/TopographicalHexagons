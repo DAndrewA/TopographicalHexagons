{
 "cells": [
  {
   "cell_type": "markdown",
   "id": "75425b54-ff01-4eb1-9ff0-2e5d8f78c65e",
   "metadata": {},
   "source": [
    "# Main\n",
    "\n",
    "This will be the notebook to perform the steps required to generate the topographical hexagons I desire. I will import the functions written in the other files and combine them in such a way as to create the hexagons I desire."
   ]
  },
  {
   "cell_type": "markdown",
   "id": "19dea993-fd7d-4454-8c3a-02fd5404a851",
   "metadata": {},
   "source": [
    "### Initialisation\n",
    "This code will set up the environment required to produce the plots I would like. As such, I'll be importing my python scripts and any other required modules."
   ]
  },
  {
   "cell_type": "code",
   "execution_count": 1,
   "id": "66a0ad36-459f-4b2d-a4a8-dd1496113a91",
   "metadata": {},
   "outputs": [],
   "source": [
    "import numpy as np\n",
    "import matplotlib.pyplot as plt\n",
    "import matplotlib as mpl\n",
    "from mpl_toolkits.mplot3d import Axes3D\n",
    "\n",
    "mpl.rc('image', cmap='terrain')\n",
    "\n",
    "\n",
    "import loadData as LD\n",
    "import CoordinateTransform as CT\n",
    "import Hexagon as Hexagon\n",
    "import HexGrid as HexGrid"
   ]
  },
  {
   "cell_type": "markdown",
   "id": "dfb95106-d41d-4d29-9a5b-b51127d1b29e",
   "metadata": {},
   "source": [
    "### Loading data\n",
    "I will load in the data for both of the SRTM datasets and concatenate them into a single matrix.\n",
    "From there, I will downsample the matrix twice until it is 1500 * 3000"
   ]
  },
  {
   "cell_type": "code",
   "execution_count": 4,
   "id": "34ba0315-4a6e-469d-9fbe-c56cf8de5801",
   "metadata": {},
   "outputs": [],
   "source": [
    "seaVal = -200\n",
    "\n",
    "D1,m1 = LD.load_asc_format('data\\\\srtm_35_04\\\\','srtm_35_04.asc',seaVal)\n",
    "D2,m2 = LD.load_asc_format('data\\\\srtm_36_04\\\\','srtm_36_04.asc',seaVal)\n",
    "\n",
    "D_combined = np.hstack((D1,D2))"
   ]
  },
  {
   "cell_type": "code",
   "execution_count": null,
   "id": "c2cf581d-a943-4e73-84f6-4f52b3b6374e",
   "metadata": {
    "scrolled": true
   },
   "outputs": [],
   "source": [
    "plt.figure(figsize = (10,4))\n",
    "\n",
    "plt.subplot(1,4,1)\n",
    "plt.imshow(D1,origin='lower',interpolation='bilinear')\n",
    "\n",
    "plt.subplot(1,4,2)\n",
    "plt.imshow(D2,origin='lower',interpolation='bilinear')\n",
    "\n",
    "plt.subplot(1,2,2)\n",
    "plt.imshow(D_combined,origin='lower',interpolation='bilinear')\n",
    "\n",
    "plt.show()"
   ]
  },
  {
   "cell_type": "code",
   "execution_count": 5,
   "id": "fd212723",
   "metadata": {},
   "outputs": [
    {
     "name": "stdout",
     "output_type": "stream",
     "text": [
      "-200.0 : 3258.0\n"
     ]
    }
   ],
   "source": [
    "print('{} : {}'.format(np.min(D_combined),np.max(D_combined)))"
   ]
  },
  {
   "cell_type": "markdown",
   "id": "2b0e6d8a-8125-444a-a2bf-1d7740a03eeb",
   "metadata": {},
   "source": [
    "### Downsampling and surface plotting\n",
    "\n",
    "I will downsample the data to be able to create a surface plot. I will then be able to apply scaling functions to the downsampled data and see how they affect the model."
   ]
  },
  {
   "cell_type": "code",
   "execution_count": null,
   "id": "698a6565-1b15-4612-ab1e-ac6ce5bb68df",
   "metadata": {},
   "outputs": [],
   "source": [
    "# performing two downsamples on the matrix\n",
    "\n",
    "newD,__ = LD.downsample_minimum(D_combined)\n",
    "newD,__ = LD.downsample_minimum(newD)"
   ]
  },
  {
   "cell_type": "code",
   "execution_count": null,
   "id": "5e764db3-df5e-4f0c-96bd-f98a10b285d3",
   "metadata": {},
   "outputs": [],
   "source": [
    "%matplotlib widget\n",
    "\n",
    "fig = plt.figure(figsize = (8,4))\n",
    "ax1 = fig.add_subplot(121, projection='3d')\n",
    "x,y = range(np.size(newD,1)), range(np.size(newD,0))\n",
    "X,Y = np.meshgrid(x,y)\n",
    "ax1.plot_surface(X,Y,newD,rcount=100,ccount=100)\n",
    "\n",
    "################################################################\n",
    "idf = lambda x: x # identity function, for copying newD\n",
    "nnewD = idf(newD)\n",
    "\n",
    "#rescaling the heightmap by a function to exagerate lower elevations more\n",
    "#k = 10\n",
    "#w = lambda x: np.log(x)*k\n",
    "#w = lambda x: np.sqrt(x)*k\n",
    "#newD[newD > 0] = w(newD[newD > 0])\n",
    "\n",
    "#w = lambda x: x/20\n",
    "#newD[newD > 0] = w(newD[newD > 0])\n",
    "w = lambda x: np.sqrt(x) #if x>0 else x\n",
    "nnewD[nnewD > 0] = w(nnewD[nnewD > 0])\n",
    "\n",
    "#################################################################\n",
    "\n",
    "ax2 = fig.add_subplot(122, projection='3d')\n",
    "ax2.plot_surface(X,Y,nnewD,rcount=100,ccount=100)\n",
    "\n",
    "ax1.azim = 121\n",
    "ax1.elev = 25\n",
    "ax1.set_box_aspect((4,2,2))\n",
    "ax2.set_zlim3d(seaVal-2)\n",
    "ax2.azim = 121\n",
    "ax2.elev = 25\n",
    "ax2.set_box_aspect((4,2,2))\n",
    "ax2.set_zlim3d(seaVal-2)\n",
    "plt.show()"
   ]
  },
  {
   "cell_type": "markdown",
   "id": "9ba3c668",
   "metadata": {},
   "source": [
    "### Hexagons and culling\n",
    "\n",
    "I will use the Hexagon and CoordinateTransform modules to cull our map in the shape of a hexagon with arbitrary centre and rotation."
   ]
  },
  {
   "cell_type": "code",
   "execution_count": null,
   "id": "472504b9",
   "metadata": {},
   "outputs": [],
   "source": [
    "# Coordinate transform\n",
    "'''\n",
    "# start by creating the coordinate transform based on the metadata from the SRTM data.\n",
    "newD,lcd = LD.downsample_minimum(D_combined)\n",
    "#newM1 = m1\n",
    "#newM1[2] = newM1[2] * lcd\n",
    "ref1Img = [0,0]\n",
    "ref1Coords = [m1[0],m1[1]]\n",
    "ref2Img = [6000,3000]\n",
    "ref2Coords = [0,45]\n",
    "Transform = CT.CoordinateTransform(ref1Img,ref1Coords,None,ref2Img,ref2Coords)\n",
    "\n",
    "'''"
   ]
  },
  {
   "cell_type": "code",
   "execution_count": null,
   "id": "a82d1259",
   "metadata": {},
   "outputs": [],
   "source": [
    "cullValue = -20\n",
    "\n",
    "newD,lcd = LD.downsample_minimum(D_combined)\n",
    "print(lcd)\n",
    "newM = m1.copy()\n",
    "newM[2] = newM[2] * lcd\n",
    "Transform = CT.CoordinateTransform(metadata=newM)\n",
    "\n",
    "\n",
    "# going to get the coordinate reference for Oviedo\n",
    "#coords = [-5.849259, 42.361374] #long,lat ## Oviedo\n",
    "#coords = [-2.349515,43.091012] #long,lat  ## basque country\n",
    "#coords = [-5,45]\n",
    "coords = np.array([-1.974412, 43.515345]).reshape((2,1)) # roughly the first point I want\n",
    "\n",
    "\n",
    "img = Transform.coords2Img(coords)\n",
    "print('Oviedo_img: {}'.format(img))\n",
    "\n",
    "# create the hexagon of 200 pixels radius, centered on Oviedo\n",
    "H = Hexagon.Hexagon(900,4,img)\n",
    "\n",
    "# create all the points in image space\n",
    "x = range(0,np.size(newD,1))\n",
    "y = range(0,np.size(newD,0))\n",
    "X,Y = np.meshgrid(x,y)\n",
    "print(np.shape(X))\n",
    "\n",
    "cullMask = H.outsideHexagon_grid(X,Y)\n",
    "\n",
    "plt.figure(figsize = (40,20))\n",
    "\n",
    "plt.subplot(1,4,1)\n",
    "plt.imshow(newD,origin='lower',interpolation='bilinear')\n",
    "\n",
    "\n",
    "newD[cullMask] = cullValue\n",
    "\n",
    "plt.subplot(1,4,2)\n",
    "plt.imshow(newD,origin='lower',interpolation='bilinear')\n",
    "\n",
    "H2 = H.createAdjacentHexagon(3)\n",
    "newCullMask = H2.outsideHexagon_grid(X,Y)\n",
    "newD,__ = LD.downsample_minimum(D_combined)\n",
    "newD[newCullMask] = cullValue\n",
    "plt.subplot(1,4,3)\n",
    "plt.imshow(newD,origin='lower',interpolation='bilinear')\n",
    "\n",
    "newD,__ = LD.downsample_minimum(D_combined)\n",
    "newD[np.logical_and(cullMask,newCullMask)] = cullValue\n",
    "plt.subplot(1,4,4)\n",
    "plt.imshow(newD,origin='lower',interpolation='bilinear')\n"
   ]
  },
  {
   "cell_type": "markdown",
   "id": "9a2afe0a-e3d5-4be6-b30d-21b1d5b1cfe1",
   "metadata": {},
   "source": [
    "## Bringing it all together\n",
    "\n",
    "In this section, I'll try to combine the culling with hexagons with loading in the locatio data to plot it all on the map and demonstrate that it can be done together."
   ]
  },
  {
   "cell_type": "code",
   "execution_count": 3,
   "id": "3851249c-10d1-4ec7-b188-dc02d5132be9",
   "metadata": {},
   "outputs": [
    {
     "name": "stdout",
     "output_type": "stream",
     "text": [
      "newD created, size is (3000,6000)\n"
     ]
    }
   ],
   "source": [
    "# Start by creating the coordinate transform object, and the initial newD image matrix\n",
    "newD,lcd = LD.downsample_minimum(D_combined)\n",
    "newM = m1.copy()\n",
    "newM[2] = newM[2] * lcd\n",
    "Transform = CT.CoordinateTransform(metadata=newM)"
   ]
  },
  {
   "cell_type": "code",
   "execution_count": 4,
   "id": "a9d92a6f-4def-4187-9109-c42e639a658c",
   "metadata": {},
   "outputs": [
    {
     "name": "stdout",
     "output_type": "stream",
     "text": [
      "[[4922.61593883 4795.54114901 4697.62530641 4589.37375168 4501.10954763\n",
      "  4390.44614216 4250.74924335  873.15750892]\n",
      " [2004.01525062 1988.37120986 1969.85819176 1976.18520115 1960.92240137\n",
      "  1988.29812327 1960.40668287 1728.27993345]]\n"
     ]
    }
   ],
   "source": [
    "# then extract the path coordinates from the journeyCoords.txt file, and convert them into image space coordinates.\n",
    "pathCoords,pathNames = LD.load_coordinate_list('data\\\\','journeyCoords.txt')\n",
    "\n",
    "pathImgCoords = Transform.coords2Img(pathCoords)\n",
    "print(pathImgCoords)"
   ]
  },
  {
   "cell_type": "code",
   "execution_count": 5,
   "id": "022742ac",
   "metadata": {},
   "outputs": [
    {
     "name": "stdout",
     "output_type": "stream",
     "text": [
      "(3000, 6000)\n"
     ]
    },
    {
     "ename": "MemoryError",
     "evalue": "Unable to allocate 137. MiB for an array with shape (3000, 6000) and data type float64",
     "output_type": "error",
     "traceback": [
      "\u001b[1;31m---------------------------------------------------------------------------\u001b[0m",
      "\u001b[1;31mMemoryError\u001b[0m                               Traceback (most recent call last)",
      "\u001b[1;32m~\\AppData\\Local\\Temp\\ipykernel_3176\\1255149191.py\u001b[0m in \u001b[0;36m<module>\u001b[1;34m\u001b[0m\n\u001b[0;32m     20\u001b[0m \u001b[0mprint\u001b[0m\u001b[1;33m(\u001b[0m\u001b[0mnp\u001b[0m\u001b[1;33m.\u001b[0m\u001b[0mshape\u001b[0m\u001b[1;33m(\u001b[0m\u001b[0mX\u001b[0m\u001b[1;33m)\u001b[0m\u001b[1;33m)\u001b[0m\u001b[1;33m\u001b[0m\u001b[1;33m\u001b[0m\u001b[0m\n\u001b[0;32m     21\u001b[0m \u001b[1;33m\u001b[0m\u001b[0m\n\u001b[1;32m---> 22\u001b[1;33m \u001b[0mcullMask\u001b[0m \u001b[1;33m=\u001b[0m \u001b[0mH\u001b[0m\u001b[1;33m.\u001b[0m\u001b[0moutsideHexagon_grid\u001b[0m\u001b[1;33m(\u001b[0m\u001b[0mX\u001b[0m\u001b[1;33m,\u001b[0m\u001b[0mY\u001b[0m\u001b[1;33m)\u001b[0m\u001b[1;33m\u001b[0m\u001b[1;33m\u001b[0m\u001b[0m\n\u001b[0m\u001b[0;32m     23\u001b[0m \u001b[1;31m#mask = cullMask.copy()\u001b[0m\u001b[1;33m\u001b[0m\u001b[1;33m\u001b[0m\u001b[0m\n\u001b[0;32m     24\u001b[0m \u001b[1;33m\u001b[0m\u001b[0m\n",
      "\u001b[1;32m~\\Documents\\Katies Camino Hexagons\\TopographicalHexagons\\Hexagon.py\u001b[0m in \u001b[0;36moutsideHexagon_grid\u001b[1;34m(self, X, Y)\u001b[0m\n\u001b[0;32m    131\u001b[0m \u001b[1;33m\u001b[0m\u001b[0m\n\u001b[0;32m    132\u001b[0m         \u001b[0mmask\u001b[0m \u001b[1;33m=\u001b[0m \u001b[0mnp\u001b[0m\u001b[1;33m.\u001b[0m\u001b[0mones\u001b[0m\u001b[1;33m(\u001b[0m\u001b[0mnp\u001b[0m\u001b[1;33m.\u001b[0m\u001b[0mshape\u001b[0m\u001b[1;33m(\u001b[0m\u001b[0mX\u001b[0m\u001b[1;33m)\u001b[0m\u001b[1;33m)\u001b[0m\u001b[1;33m\u001b[0m\u001b[1;33m\u001b[0m\u001b[0m\n\u001b[1;32m--> 133\u001b[1;33m         \u001b[1;32mreturn\u001b[0m \u001b[0mnp\u001b[0m\u001b[1;33m.\u001b[0m\u001b[0marray\u001b[0m\u001b[1;33m(\u001b[0m\u001b[0mmask\u001b[0m \u001b[1;33m-\u001b[0m \u001b[0mself\u001b[0m\u001b[1;33m.\u001b[0m\u001b[0minsideHexagon_grid\u001b[0m\u001b[1;33m(\u001b[0m\u001b[0mX\u001b[0m\u001b[1;33m,\u001b[0m \u001b[0mY\u001b[0m\u001b[1;33m)\u001b[0m\u001b[1;33m,\u001b[0m \u001b[0mdtype\u001b[0m\u001b[1;33m=\u001b[0m\u001b[0mbool\u001b[0m\u001b[1;33m)\u001b[0m\u001b[1;33m\u001b[0m\u001b[1;33m\u001b[0m\u001b[0m\n\u001b[0m\u001b[0;32m    134\u001b[0m \u001b[1;33m\u001b[0m\u001b[0m\n\u001b[0;32m    135\u001b[0m     \u001b[1;32mdef\u001b[0m \u001b[0minsideHexagon_coords\u001b[0m\u001b[1;33m(\u001b[0m\u001b[0mself\u001b[0m\u001b[1;33m,\u001b[0m\u001b[0mcoords\u001b[0m\u001b[1;33m,\u001b[0m\u001b[0mtol\u001b[0m\u001b[1;33m=\u001b[0m\u001b[1;36m0.00\u001b[0m\u001b[1;33m)\u001b[0m\u001b[1;33m:\u001b[0m\u001b[1;33m\u001b[0m\u001b[1;33m\u001b[0m\u001b[0m\n",
      "\u001b[1;32m~\\Documents\\Katies Camino Hexagons\\TopographicalHexagons\\Hexagon.py\u001b[0m in \u001b[0;36minsideHexagon_grid\u001b[1;34m(self, X, Y)\u001b[0m\n\u001b[0;32m    112\u001b[0m         \u001b[1;32mfor\u001b[0m \u001b[0mi\u001b[0m \u001b[1;32min\u001b[0m \u001b[1;33m[\u001b[0m\u001b[1;36m0\u001b[0m\u001b[1;33m,\u001b[0m\u001b[1;36m1\u001b[0m\u001b[1;33m,\u001b[0m\u001b[1;36m2\u001b[0m\u001b[1;33m]\u001b[0m\u001b[1;33m:\u001b[0m \u001b[1;31m# for each normal (i)\u001b[0m\u001b[1;33m\u001b[0m\u001b[1;33m\u001b[0m\u001b[0m\n\u001b[0;32m    113\u001b[0m             \u001b[1;31m#compute the absolute dot product of each coordinate position with the normal vector\u001b[0m\u001b[1;33m\u001b[0m\u001b[1;33m\u001b[0m\u001b[0m\n\u001b[1;32m--> 114\u001b[1;33m             \u001b[0mDot\u001b[0m \u001b[1;33m=\u001b[0m \u001b[0mnp\u001b[0m\u001b[1;33m.\u001b[0m\u001b[0mabs\u001b[0m\u001b[1;33m(\u001b[0m\u001b[0mX\u001b[0m \u001b[1;33m*\u001b[0m \u001b[0mself\u001b[0m\u001b[1;33m.\u001b[0m\u001b[0mnormals\u001b[0m\u001b[1;33m[\u001b[0m\u001b[1;36m0\u001b[0m\u001b[1;33m,\u001b[0m\u001b[0mi\u001b[0m\u001b[1;33m]\u001b[0m \u001b[1;33m+\u001b[0m \u001b[0mY\u001b[0m \u001b[1;33m*\u001b[0m \u001b[0mself\u001b[0m\u001b[1;33m.\u001b[0m\u001b[0mnormals\u001b[0m\u001b[1;33m[\u001b[0m\u001b[1;36m1\u001b[0m\u001b[1;33m,\u001b[0m\u001b[0mi\u001b[0m\u001b[1;33m]\u001b[0m\u001b[1;33m)\u001b[0m\u001b[1;33m\u001b[0m\u001b[1;33m\u001b[0m\u001b[0m\n\u001b[0m\u001b[0;32m    115\u001b[0m             \u001b[1;31m# if the dot product is less than sqrt(3)a/2 then its within the hexagon, add one\u001b[0m\u001b[1;33m\u001b[0m\u001b[1;33m\u001b[0m\u001b[0m\n\u001b[0;32m    116\u001b[0m             \u001b[0mmask\u001b[0m\u001b[1;33m[\u001b[0m \u001b[0mDot\u001b[0m \u001b[1;33m<=\u001b[0m \u001b[1;33m(\u001b[0m\u001b[0mnp\u001b[0m\u001b[1;33m.\u001b[0m\u001b[0msqrt\u001b[0m\u001b[1;33m(\u001b[0m\u001b[1;36m3\u001b[0m\u001b[1;33m)\u001b[0m\u001b[1;33m/\u001b[0m\u001b[1;36m2\u001b[0m \u001b[1;33m*\u001b[0m \u001b[0mself\u001b[0m\u001b[1;33m.\u001b[0m\u001b[0mscale\u001b[0m\u001b[1;33m)\u001b[0m \u001b[1;33m]\u001b[0m \u001b[1;33m+=\u001b[0m \u001b[1;36m1\u001b[0m\u001b[1;33m\u001b[0m\u001b[1;33m\u001b[0m\u001b[0m\n",
      "\u001b[1;31mMemoryError\u001b[0m: Unable to allocate 137. MiB for an array with shape (3000, 6000) and data type float64"
     ]
    }
   ],
   "source": [
    "#This will cull the newD image so that its only represented by the hexagons.\n",
    "cullValue = -20\n",
    "\n",
    "\n",
    "# going to get the coordinate reference for Oviedo\n",
    "#coords = [-5.849259, 42.361374] #long,lat ## Oviedo\n",
    "#coords = [-2.349515,43.091012] #long,lat  ## basque country\n",
    "#coords = [-5,45] # test\n",
    "coords = np.array([-1.974412, 43.215345]).reshape((2,1)) # roughly the first point I want\n",
    "\n",
    "\n",
    "img = Transform.coords2Img(coords)\n",
    "# create the hexagon of 200 pixels radius, centered on coords\n",
    "H = Hexagon.Hexagon(550,3,img)\n",
    "\n",
    "# create all the points in image space\n",
    "x = range(0,np.size(newD,1))\n",
    "y = range(0,np.size(newD,0))\n",
    "X,Y = np.meshgrid(x,y)\n",
    "print(np.shape(X))\n",
    "\n",
    "cullMask = H.outsideHexagon_grid(X,Y)\n",
    "#mask = cullMask.copy()\n",
    "\n",
    "for j in range(4): # create 4 additional hexagons to the left\n",
    "    print('j: {}'.format(j))\n",
    "    H = H.createAdjacentHexagon(3)\n",
    "    cullMask = np.logical_and(cullMask,H.outsideHexagon_grid(X,Y))\n",
    "    \n",
    "#newD[cullMask] = cullValue"
   ]
  },
  {
   "cell_type": "code",
   "execution_count": null,
   "id": "206510e1-10dd-4f92-b99f-1f13072ffe0b",
   "metadata": {},
   "outputs": [],
   "source": [
    "# plotting the results of the culling and journey coordinates\n",
    "plt.figure(figsize = (40,20))\n",
    "\n",
    "plt.hold = True\n",
    "\n",
    "#--------------------------------------------------LEFT IMAGE---------------------------------------------------\n",
    "plt.subplot(1,2,1)\n",
    "plt.imshow(newD,origin='lower',interpolation='bilinear')\n",
    "\n",
    "plt.scatter(pathImgCoords[0,:],pathImgCoords[1,:],s=40,c='r')\n",
    "\n",
    "\n",
    "#-------------------------------------------------RIGHT IMAGE---------------------------------------------------\n",
    "plt.subplot(1,2,2)\n",
    "newD[cullMask] = cullValue\n",
    "\n",
    "plt.imshow(newD,origin='lower',interpolation='bilinear')\n",
    "\n",
    "plt.show()"
   ]
  },
  {
   "cell_type": "markdown",
   "id": "b5440885-ee03-4f2c-beb3-6b4a5206c458",
   "metadata": {},
   "source": [
    "## Using the HexGrid to accomplish the job"
   ]
  },
  {
   "cell_type": "code",
   "execution_count": null,
   "id": "a675889b-cab7-4155-80b3-0783557a42ac",
   "metadata": {},
   "outputs": [],
   "source": [
    "newD,lcd = LD.downsample_minimum(D_combined)\n",
    "newM = m1.copy()\n",
    "newM[2] = newM[2] * lcd\n",
    "Transform = CT.CoordinateTransform(metadata=newM)\n",
    "\n",
    "\n",
    "coords = np.array([-1.974412, 43.215345]).reshape((2,1)) # roughly the first point I want\n",
    "img = Transform.coords2Img(coords)\n",
    "\n",
    "# create the hexagon centered on coords\n",
    "targetH = Hexagon.Hexagon(550,3,img)\n",
    "\n",
    "# create all the points in image space\n",
    "x = range(0,np.size(newD,1))\n",
    "y = range(0,np.size(newD,0))\n",
    "X,Y = np.meshgrid(x,y)\n",
    "print(np.shape(X))\n",
    "\n",
    "\n",
    "\n",
    "v,f = HexGrid.layerAlgorithm(targetH,50)\n",
    "\n",
    "# showing the hexagons work themselves\n",
    "#fig = plt.figure(figsize=(40,20))\n",
    "#ax = fig.add_subplot(121)\n",
    "#ax.scatter(v[0,:],v[1,:])\n",
    "\n",
    "\n",
    "HexD = HexGrid.interpolateGrids(v,X,Y,newD)\n",
    "\n",
    "#ax = fig.add_subplot(111)\n",
    "#ax.contourf(v[0,:],v[1,:],HexD)"
   ]
  },
  {
   "cell_type": "code",
   "execution_count": null,
   "id": "22e7e56c-c986-467d-9748-e37223d960ee",
   "metadata": {},
   "outputs": [],
   "source": [
    "%matplotlib widget\n",
    "print(HexD.shape)\n",
    "\n",
    "fig = plt.figure(figsize = (8,8))\n",
    "ax = fig.add_subplot(111, projection='3d')\n",
    "ax.plot_trisurf(v[0,:], v[1,:], HexD, triangles=f,cmap='terrain')\n",
    "ax.view_init(50,32)"
   ]
  },
  {
   "cell_type": "markdown",
   "id": "6ed97ee7-08a8-4a70-a8eb-74eb7bac0a7f",
   "metadata": {},
   "source": [
    "### Further visualisation efforts\n",
    "\n",
    "Here, I present my attempts at scaling the heightmap to make it better for printing, and to create a 3d plot to show it off."
   ]
  },
  {
   "cell_type": "code",
   "execution_count": null,
   "id": "bccb8baf-30d6-4e3a-af63-89d99617a15d",
   "metadata": {},
   "outputs": [],
   "source": [
    "%matplotlib widget\n",
    "# 3d plot of newD before any scaling is applied\n",
    "scaleD = newD.copy()\n",
    "scaleD = scaleD[1070:2740,240:5680]\n",
    "scaleX = X[1070:2740,240:5680]\n",
    "scaleY = Y[1070:2740,240:5680]\n",
    "\n",
    "fig = plt.figure(figsize = (8,4))\n",
    "ax = fig.add_subplot(111, projection='3d')\n",
    "ax.plot_surface(scaleX,scaleY,scaleD,rcount=60,ccount=60,cmap='terrain',antialiased=False)\n",
    "ax.view_init(50,32)\n",
    "ax.set_box_aspect((np.ptp(scaleX), np.ptp(scaleY),np.ptp(scaleD)))"
   ]
  },
  {
   "cell_type": "code",
   "execution_count": null,
   "id": "8aa4c255",
   "metadata": {
    "scrolled": true
   },
   "outputs": [],
   "source": [
    "scaleD = newD.copy()\n",
    "'''\n",
    "w = lambda x: x#np.sign(x)*np.log(np.abs(x)+1)\n",
    "scaleD = w(scaleD)\n",
    "'''\n",
    "\n",
    "reductionFactor = 0.01\n",
    "scaleD[scaleD > cullValue] *= reductionFactor\n",
    "scaleD[scaleD == cullValue] = -6\n",
    "scaleD[scaleD == seaVal] = -1\n",
    "\n",
    "\n",
    "scaleD = scaleD[1070:2740,240:5680]\n",
    "scaleX = X[1070:2740,240:5680]\n",
    "scaleY = Y[1070:2740,240:5680]"
   ]
  },
  {
   "cell_type": "code",
   "execution_count": null,
   "id": "6020c1f9",
   "metadata": {},
   "outputs": [],
   "source": [
    "%matplotlib widget\n",
    "\n",
    "fig = plt.figure(figsize = (8,4))\n",
    "ax = fig.add_subplot(111, projection='3d')\n",
    "ax.plot_surface(scaleX,scaleY,scaleD,rcount=100,ccount=100,cmap='terrain',antialiased=False)\n",
    "ax.view_init(50,32)\n",
    "ax.set_box_aspect((np.ptp(scaleX), np.ptp(scaleY),np.ptp(newD)))"
   ]
  },
  {
   "cell_type": "code",
   "execution_count": null,
   "id": "7ec05f1a",
   "metadata": {},
   "outputs": [],
   "source": []
  }
 ],
 "metadata": {
  "kernelspec": {
   "display_name": "Python 3 (ipykernel)",
   "language": "python",
   "name": "python3"
  },
  "language_info": {
   "codemirror_mode": {
    "name": "ipython",
    "version": 3
   },
   "file_extension": ".py",
   "mimetype": "text/x-python",
   "name": "python",
   "nbconvert_exporter": "python",
   "pygments_lexer": "ipython3",
   "version": "3.9.13"
  }
 },
 "nbformat": 4,
 "nbformat_minor": 5
}
